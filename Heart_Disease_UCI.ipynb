{
  "nbformat": 4,
  "nbformat_minor": 0,
  "metadata": {
    "colab": {
      "name": "Heart Disease UCI.ipynb",
      "provenance": [],
      "collapsed_sections": [],
      "authorship_tag": "ABX9TyMVgfdOV0pRk0QNijfpCy5p"
    },
    "kernelspec": {
      "name": "python3",
      "display_name": "Python 3"
    },
    "language_info": {
      "name": "python"
    }
  },
  "cells": [
    {
      "cell_type": "markdown",
      "metadata": {
        "id": "b0me452_sh7E"
      },
      "source": [
        "# 1. Introdução\n",
        "\n",
        "Nesse notebook iremos utilizar uma base de dados com algumas informações sobre suicídios nos países, para tentar entender fatores que influenciam nessa decisão."
      ]
    },
    {
      "cell_type": "markdown",
      "metadata": {
        "id": "d9-cXfALspHi"
      },
      "source": [
        "# 2. Imports e Funções\n"
      ]
    },
    {
      "cell_type": "code",
      "metadata": {
        "id": "1O303hQUz7C2"
      },
      "source": [
        "# Para evitar avisos que iriam atrapalhar a visualização de dados\n",
        "from warnings import filterwarnings\n",
        "\n",
        "filterwarnings(\"ignore\",category=DeprecationWarning)\n",
        "filterwarnings(\"ignore\", category=FutureWarning) \n",
        "filterwarnings(\"ignore\", category=UserWarning)\n",
        "filterwarnings(\"ignore\", category=RuntimeWarning)\n",
        "\n",
        "# Pacote de ML utilizado\n",
        "from sklearn.model_selection import train_test_split, GridSearchCV, StratifiedKFold\n",
        "from sklearn.preprocessing import StandardScaler, PolynomialFeatures, LabelEncoder\n",
        "from sklearn.linear_model import LinearRegression, Lasso, Ridge\n",
        "from sklearn.neighbors import KNeighborsRegressor, KNeighborsClassifier\n",
        "from sklearn.pipeline import Pipeline\n",
        "from sklearn.metrics import precision_score\n",
        "\n",
        "# Ferramentas Estatísticas\n",
        "from statsmodels.distributions.empirical_distribution import ECDF\n",
        "from scipy import stats as ss\n",
        "\n",
        "# Pacote básico de manipulação e visualização de dados\n",
        "import pandas as pd\n",
        "import matplotlib.pyplot as plt\n",
        "import numpy as np\n",
        "from matplotlib.pyplot import cm\n",
        "\n",
        "pd.options.mode.chained_assignment = None  # default='warn'"
      ],
      "execution_count": null,
      "outputs": []
    },
    {
      "cell_type": "code",
      "source": [
        "from google.colab import drive\n",
        "drive.mount('/content/drive')"
      ],
      "metadata": {
        "id": "XOvCOoOu5YBl",
        "colab": {
          "base_uri": "https://localhost:8080/"
        },
        "outputId": "e8a756d1-0c4b-4b8d-99a0-8f00cf65b5ed"
      },
      "execution_count": null,
      "outputs": [
        {
          "output_type": "stream",
          "name": "stdout",
          "text": [
            "Mounted at /content/drive\n"
          ]
        }
      ]
    },
    {
      "cell_type": "markdown",
      "metadata": {
        "id": "cziIDT_gQO2Q"
      },
      "source": [
        "Padronização dos gráficos para facilitar visualização."
      ]
    },
    {
      "cell_type": "code",
      "metadata": {
        "id": "tpEYpnDjvIup"
      },
      "source": [
        "plt.style.use('seaborn-colorblind')\n",
        "plt.rcParams['figure.figsize']  = (16, 10)\n",
        "plt.rcParams['axes.labelsize']  = 20\n",
        "plt.rcParams['axes.titlesize']  = 20\n",
        "plt.rcParams['legend.fontsize'] = 20\n",
        "plt.rcParams['xtick.labelsize'] = 20\n",
        "plt.rcParams['ytick.labelsize'] = 20\n",
        "plt.rcParams['lines.linewidth'] = 4"
      ],
      "execution_count": null,
      "outputs": []
    },
    {
      "cell_type": "markdown",
      "metadata": {
        "id": "Am0XdYPCQUvX"
      },
      "source": [
        "Força o gráfica a ser desenhado no próprio notebook."
      ]
    },
    {
      "cell_type": "code",
      "metadata": {
        "id": "_LgAHrdLvNix"
      },
      "source": [
        "plt.ion()"
      ],
      "execution_count": null,
      "outputs": []
    },
    {
      "cell_type": "markdown",
      "metadata": {
        "id": "qAq2BBe-QYrT"
      },
      "source": [
        "Função que retira as linhas das bordas direita e superior dos gráficos."
      ]
    },
    {
      "cell_type": "code",
      "metadata": {
        "id": "xzgBOMlUvN5A"
      },
      "source": [
        "def despine(ax=None):\n",
        "    if ax is None:\n",
        "        ax = plt.gca()\n",
        "    # Hide the right and top spines\n",
        "    ax.spines['right'].set_visible(False)\n",
        "    ax.spines['top'].set_visible(False)\n",
        "\n",
        "    # Only show ticks on the left and bottom spines\n",
        "    ax.yaxis.set_ticks_position('left')\n",
        "    ax.xaxis.set_ticks_position('bottom')"
      ],
      "execution_count": null,
      "outputs": []
    },
    {
      "cell_type": "markdown",
      "metadata": {
        "id": "_MdLL-htQizQ"
      },
      "source": [
        "Função que calcula o bootstrap com 5000 valores do conjunto de dados x passado."
      ]
    },
    {
      "cell_type": "code",
      "metadata": {
        "id": "KFUuxENKeHH8"
      },
      "source": [
        "def bootstrap_mean(x, n=5000):\n",
        "    size = len(x)\n",
        "    values = np.zeros(n)\n",
        "    for i in range(n):\n",
        "        sample = np.random.choice(x, size=size, replace=True)\n",
        "        values[i] = sample.mean()\n",
        "    return values"
      ],
      "execution_count": null,
      "outputs": []
    },
    {
      "cell_type": "markdown",
      "metadata": {
        "id": "KjcgHIblzwEG"
      },
      "source": [
        "Função que calcula o bootstrap com 5000 valores do MSE (Erro Médio Quadrado) do modelo passado."
      ]
    },
    {
      "cell_type": "code",
      "metadata": {
        "id": "E8sejMKzzwEH"
      },
      "source": [
        "def bootstrap_mse(X, y, model, n=5000):\n",
        "    size = len(y)\n",
        "    values = np.zeros(n)\n",
        "    for i in range(n):\n",
        "        idx = np.random.choice(size, size)\n",
        "        Xb = X.iloc[idx]\n",
        "        yb = y.iloc[idx]\n",
        "        values[i] = mean_squared_error(yb, model.predict(Xb))\n",
        "    return values"
      ],
      "execution_count": null,
      "outputs": []
    },
    {
      "cell_type": "markdown",
      "metadata": {
        "id": "XEMwyeXZ9bjL"
      },
      "source": [
        "Função que calcula o bootstrap com 5000 valores do score do modelo passado. Ela não será utilizada nesse notebook, mas pode ser útil caso o leitor queira utilizar outra métrica para avaliar os modelos."
      ]
    },
    {
      "cell_type": "code",
      "metadata": {
        "id": "Klb1hgSA9bjL"
      },
      "source": [
        "def bootstrap_score(X, y, model, n=5000):\n",
        "    size = len(y)\n",
        "    values = np.zeros(n)\n",
        "    for i in range(n):\n",
        "        idx = np.random.choice(size, size)\n",
        "        Xb = X.iloc[idx]\n",
        "        yb = y.iloc[idx]\n",
        "        values[i] = model.score(Xb, yb)\n",
        "    return values"
      ],
      "execution_count": null,
      "outputs": []
    },
    {
      "cell_type": "markdown",
      "metadata": {
        "id": "nF1uAdzD0SGj"
      },
      "source": [
        "Função que calcula o bootstrap com 5000 valores do score do modelo passado. Ela não será utilizada nesse notebook, mas pode ser útil caso o leitor queira utilizar outra métrica para avaliar os modelos."
      ]
    },
    {
      "cell_type": "code",
      "metadata": {
        "id": "RkkuFy9N07uh"
      },
      "source": [
        "def bootstrap_pscore(y_val, y_hat, n=5000):\n",
        "    size = len(y_val)\n",
        "    values = np.zeros(n)\n",
        "    for i in range(n):\n",
        "        idx = np.random.choice(size, size)\n",
        "        y_valb = y_val[idx]\n",
        "        y_hatb = y_hat[idx]\n",
        "        values[i] = precision_score(y_valb, y_hatb, average=None)\n",
        "    return values"
      ],
      "execution_count": null,
      "outputs": []
    },
    {
      "cell_type": "markdown",
      "metadata": {
        "id": "0l6G2kTGsttE"
      },
      "source": [
        "# 3. Base de Dados"
      ]
    },
    {
      "cell_type": "code",
      "metadata": {
        "id": "1utatOSZklyn"
      },
      "source": [
        "df = pd.read_csv('/content/drive/MyDrive/Colab Notebooks/CSVs/heart disease.csv', encoding='utf-8', sep=',')"
      ],
      "execution_count": null,
      "outputs": []
    },
    {
      "cell_type": "markdown",
      "metadata": {
        "id": "OV_aTbDh0CtW"
      },
      "source": [
        "* age\n",
        "* sex\n",
        "* chest pain type (4 values)\n",
        "* resting blood pressure\n",
        "* serum cholestoral in mg/dl\n",
        "* fasting blood sugar > 120 mg/dl\n",
        "* resting electrocardiographic results (values 0,1,2)\n",
        "* maximum heart rate achieved\n",
        "* exercise induced angina\n",
        "* oldpeak = ST depression induced by exercise relative to rest\n",
        "* the slope of the peak exercise ST segment\n",
        "* number of major vessels (0-3) colored by flourosopy\n",
        "* thal: 3 = normal; 6 = fixed defect; 7 = reversable defect\n",
        "\n",
        "\n"
      ]
    },
    {
      "cell_type": "code",
      "metadata": {
        "id": "KDZr1gVenVvc",
        "colab": {
          "base_uri": "https://localhost:8080/",
          "height": 305
        },
        "outputId": "c8ac3a28-d71b-4f04-de61-80aa892acbfa"
      },
      "source": [
        "df.head()"
      ],
      "execution_count": null,
      "outputs": [
        {
          "output_type": "execute_result",
          "data": {
            "text/plain": [
              "   Age  Sex  Chest Pain  Resting Blood Pressure  Cholesterol  \\\n",
              "0   63    1           3                     145          233   \n",
              "1   37    1           2                     130          250   \n",
              "2   41    0           1                     130          204   \n",
              "3   56    1           1                     120          236   \n",
              "4   57    0           0                     120          354   \n",
              "\n",
              "   Fasting Blood Sugar  Resting ECG  Max Heart Rate  Exercise Induced Angina  \\\n",
              "0                    1            0             150                        0   \n",
              "1                    0            1             187                        0   \n",
              "2                    0            0             172                        0   \n",
              "3                    0            1             178                        0   \n",
              "4                    0            1             163                        1   \n",
              "\n",
              "   Oldpeak  Slope  CA  Thal  Target  \n",
              "0      2.3      0   0     1       1  \n",
              "1      3.5      0   0     2       1  \n",
              "2      1.4      2   0     2       1  \n",
              "3      0.8      2   0     2       1  \n",
              "4      0.6      2   0     2       1  "
            ],
            "text/html": [
              "\n",
              "  <div id=\"df-14540176-f4c6-4d09-a65a-42b55a3ed28c\">\n",
              "    <div class=\"colab-df-container\">\n",
              "      <div>\n",
              "<style scoped>\n",
              "    .dataframe tbody tr th:only-of-type {\n",
              "        vertical-align: middle;\n",
              "    }\n",
              "\n",
              "    .dataframe tbody tr th {\n",
              "        vertical-align: top;\n",
              "    }\n",
              "\n",
              "    .dataframe thead th {\n",
              "        text-align: right;\n",
              "    }\n",
              "</style>\n",
              "<table border=\"1\" class=\"dataframe\">\n",
              "  <thead>\n",
              "    <tr style=\"text-align: right;\">\n",
              "      <th></th>\n",
              "      <th>Age</th>\n",
              "      <th>Sex</th>\n",
              "      <th>Chest Pain</th>\n",
              "      <th>Resting Blood Pressure</th>\n",
              "      <th>Cholesterol</th>\n",
              "      <th>Fasting Blood Sugar</th>\n",
              "      <th>Resting ECG</th>\n",
              "      <th>Max Heart Rate</th>\n",
              "      <th>Exercise Induced Angina</th>\n",
              "      <th>Oldpeak</th>\n",
              "      <th>Slope</th>\n",
              "      <th>CA</th>\n",
              "      <th>Thal</th>\n",
              "      <th>Target</th>\n",
              "    </tr>\n",
              "  </thead>\n",
              "  <tbody>\n",
              "    <tr>\n",
              "      <th>0</th>\n",
              "      <td>63</td>\n",
              "      <td>1</td>\n",
              "      <td>3</td>\n",
              "      <td>145</td>\n",
              "      <td>233</td>\n",
              "      <td>1</td>\n",
              "      <td>0</td>\n",
              "      <td>150</td>\n",
              "      <td>0</td>\n",
              "      <td>2.3</td>\n",
              "      <td>0</td>\n",
              "      <td>0</td>\n",
              "      <td>1</td>\n",
              "      <td>1</td>\n",
              "    </tr>\n",
              "    <tr>\n",
              "      <th>1</th>\n",
              "      <td>37</td>\n",
              "      <td>1</td>\n",
              "      <td>2</td>\n",
              "      <td>130</td>\n",
              "      <td>250</td>\n",
              "      <td>0</td>\n",
              "      <td>1</td>\n",
              "      <td>187</td>\n",
              "      <td>0</td>\n",
              "      <td>3.5</td>\n",
              "      <td>0</td>\n",
              "      <td>0</td>\n",
              "      <td>2</td>\n",
              "      <td>1</td>\n",
              "    </tr>\n",
              "    <tr>\n",
              "      <th>2</th>\n",
              "      <td>41</td>\n",
              "      <td>0</td>\n",
              "      <td>1</td>\n",
              "      <td>130</td>\n",
              "      <td>204</td>\n",
              "      <td>0</td>\n",
              "      <td>0</td>\n",
              "      <td>172</td>\n",
              "      <td>0</td>\n",
              "      <td>1.4</td>\n",
              "      <td>2</td>\n",
              "      <td>0</td>\n",
              "      <td>2</td>\n",
              "      <td>1</td>\n",
              "    </tr>\n",
              "    <tr>\n",
              "      <th>3</th>\n",
              "      <td>56</td>\n",
              "      <td>1</td>\n",
              "      <td>1</td>\n",
              "      <td>120</td>\n",
              "      <td>236</td>\n",
              "      <td>0</td>\n",
              "      <td>1</td>\n",
              "      <td>178</td>\n",
              "      <td>0</td>\n",
              "      <td>0.8</td>\n",
              "      <td>2</td>\n",
              "      <td>0</td>\n",
              "      <td>2</td>\n",
              "      <td>1</td>\n",
              "    </tr>\n",
              "    <tr>\n",
              "      <th>4</th>\n",
              "      <td>57</td>\n",
              "      <td>0</td>\n",
              "      <td>0</td>\n",
              "      <td>120</td>\n",
              "      <td>354</td>\n",
              "      <td>0</td>\n",
              "      <td>1</td>\n",
              "      <td>163</td>\n",
              "      <td>1</td>\n",
              "      <td>0.6</td>\n",
              "      <td>2</td>\n",
              "      <td>0</td>\n",
              "      <td>2</td>\n",
              "      <td>1</td>\n",
              "    </tr>\n",
              "  </tbody>\n",
              "</table>\n",
              "</div>\n",
              "      <button class=\"colab-df-convert\" onclick=\"convertToInteractive('df-14540176-f4c6-4d09-a65a-42b55a3ed28c')\"\n",
              "              title=\"Convert this dataframe to an interactive table.\"\n",
              "              style=\"display:none;\">\n",
              "        \n",
              "  <svg xmlns=\"http://www.w3.org/2000/svg\" height=\"24px\"viewBox=\"0 0 24 24\"\n",
              "       width=\"24px\">\n",
              "    <path d=\"M0 0h24v24H0V0z\" fill=\"none\"/>\n",
              "    <path d=\"M18.56 5.44l.94 2.06.94-2.06 2.06-.94-2.06-.94-.94-2.06-.94 2.06-2.06.94zm-11 1L8.5 8.5l.94-2.06 2.06-.94-2.06-.94L8.5 2.5l-.94 2.06-2.06.94zm10 10l.94 2.06.94-2.06 2.06-.94-2.06-.94-.94-2.06-.94 2.06-2.06.94z\"/><path d=\"M17.41 7.96l-1.37-1.37c-.4-.4-.92-.59-1.43-.59-.52 0-1.04.2-1.43.59L10.3 9.45l-7.72 7.72c-.78.78-.78 2.05 0 2.83L4 21.41c.39.39.9.59 1.41.59.51 0 1.02-.2 1.41-.59l7.78-7.78 2.81-2.81c.8-.78.8-2.07 0-2.86zM5.41 20L4 18.59l7.72-7.72 1.47 1.35L5.41 20z\"/>\n",
              "  </svg>\n",
              "      </button>\n",
              "      \n",
              "  <style>\n",
              "    .colab-df-container {\n",
              "      display:flex;\n",
              "      flex-wrap:wrap;\n",
              "      gap: 12px;\n",
              "    }\n",
              "\n",
              "    .colab-df-convert {\n",
              "      background-color: #E8F0FE;\n",
              "      border: none;\n",
              "      border-radius: 50%;\n",
              "      cursor: pointer;\n",
              "      display: none;\n",
              "      fill: #1967D2;\n",
              "      height: 32px;\n",
              "      padding: 0 0 0 0;\n",
              "      width: 32px;\n",
              "    }\n",
              "\n",
              "    .colab-df-convert:hover {\n",
              "      background-color: #E2EBFA;\n",
              "      box-shadow: 0px 1px 2px rgba(60, 64, 67, 0.3), 0px 1px 3px 1px rgba(60, 64, 67, 0.15);\n",
              "      fill: #174EA6;\n",
              "    }\n",
              "\n",
              "    [theme=dark] .colab-df-convert {\n",
              "      background-color: #3B4455;\n",
              "      fill: #D2E3FC;\n",
              "    }\n",
              "\n",
              "    [theme=dark] .colab-df-convert:hover {\n",
              "      background-color: #434B5C;\n",
              "      box-shadow: 0px 1px 3px 1px rgba(0, 0, 0, 0.15);\n",
              "      filter: drop-shadow(0px 1px 2px rgba(0, 0, 0, 0.3));\n",
              "      fill: #FFFFFF;\n",
              "    }\n",
              "  </style>\n",
              "\n",
              "      <script>\n",
              "        const buttonEl =\n",
              "          document.querySelector('#df-14540176-f4c6-4d09-a65a-42b55a3ed28c button.colab-df-convert');\n",
              "        buttonEl.style.display =\n",
              "          google.colab.kernel.accessAllowed ? 'block' : 'none';\n",
              "\n",
              "        async function convertToInteractive(key) {\n",
              "          const element = document.querySelector('#df-14540176-f4c6-4d09-a65a-42b55a3ed28c');\n",
              "          const dataTable =\n",
              "            await google.colab.kernel.invokeFunction('convertToInteractive',\n",
              "                                                     [key], {});\n",
              "          if (!dataTable) return;\n",
              "\n",
              "          const docLinkHtml = 'Like what you see? Visit the ' +\n",
              "            '<a target=\"_blank\" href=https://colab.research.google.com/notebooks/data_table.ipynb>data table notebook</a>'\n",
              "            + ' to learn more about interactive tables.';\n",
              "          element.innerHTML = '';\n",
              "          dataTable['output_type'] = 'display_data';\n",
              "          await google.colab.output.renderOutput(dataTable, element);\n",
              "          const docLink = document.createElement('div');\n",
              "          docLink.innerHTML = docLinkHtml;\n",
              "          element.appendChild(docLink);\n",
              "        }\n",
              "      </script>\n",
              "    </div>\n",
              "  </div>\n",
              "  "
            ]
          },
          "metadata": {},
          "execution_count": 4
        }
      ]
    },
    {
      "cell_type": "markdown",
      "metadata": {
        "id": "Fg1UYCIQ_OaV"
      },
      "source": [
        "## 1. Visualização Inicial\n",
        "\n",
        "Colunas binárias:\n",
        "    \n",
        "    Sex [0 1]\n",
        "    Fasting Blood Sugar [0 1]\n",
        "    Exercise Induced Angina [0 1]\n",
        "    Target [0 1]\n",
        "\n",
        "Colunas ternárias:\n",
        "    \n",
        "    Resting ECG [0 1 2]\n",
        "    Slope [0 1 2]\n",
        "\n",
        "Colunas quaternárias:\n",
        "    \n",
        "    Chest Pain [0 1 2 3]\n",
        "    Thal [0 1 2 3]\n",
        "\n",
        "Colunas quinárias:\n",
        "    \n",
        "    CA [0 1 2 3 4]"
      ]
    },
    {
      "cell_type": "markdown",
      "metadata": {
        "id": "khDKXhMsRuUY"
      },
      "source": [
        "Somente a coluna 'HDI' possui NaNs. Iremos lidar com esse problema em um momento mais oportuno."
      ]
    },
    {
      "cell_type": "code",
      "metadata": {
        "id": "SK_mG41y0bPD",
        "colab": {
          "base_uri": "https://localhost:8080/"
        },
        "outputId": "e2a1d80a-4c1e-4cd1-a4b9-b4f465bf37cb"
      },
      "source": [
        "df.isna().sum().sort_values(ascending=False)"
      ],
      "execution_count": null,
      "outputs": [
        {
          "output_type": "execute_result",
          "data": {
            "text/plain": [
              "Target                     0\n",
              "Thal                       0\n",
              "CA                         0\n",
              "Slope                      0\n",
              "Oldpeak                    0\n",
              "Exercise Induced Angina    0\n",
              "Max Heart Rate             0\n",
              "Resting ECG                0\n",
              "Fasting Blood Sugar        0\n",
              "Cholesterol                0\n",
              "Resting Blood Pressure     0\n",
              "Chest Pain                 0\n",
              "Sex                        0\n",
              "Age                        0\n",
              "dtype: int64"
            ]
          },
          "metadata": {},
          "execution_count": 11
        }
      ]
    },
    {
      "cell_type": "code",
      "metadata": {
        "id": "WfDQhzbnRAtW",
        "colab": {
          "base_uri": "https://localhost:8080/"
        },
        "outputId": "2c8c8527-23fa-4439-9f29-20fd402d3133"
      },
      "source": [
        "df.shape"
      ],
      "execution_count": null,
      "outputs": [
        {
          "output_type": "execute_result",
          "data": {
            "text/plain": [
              "(303, 14)"
            ]
          },
          "metadata": {},
          "execution_count": 12
        }
      ]
    },
    {
      "cell_type": "markdown",
      "metadata": {
        "id": "MtZVinsn_9cy"
      },
      "source": [
        "## 2. Limpeza dos Dados\n"
      ]
    },
    {
      "cell_type": "markdown",
      "metadata": {
        "id": "_pDlT0b9ieKn"
      },
      "source": [
        "# 4. Visualização de Dados\n"
      ]
    },
    {
      "cell_type": "markdown",
      "metadata": {
        "id": "255C0606gK0s"
      },
      "source": [
        "## 2. Visualização da Expectativa de Vida\n",
        "\n",
        "Da mesma maneira que o GDP, a distribuição da Expectativa de Vida não é simétrica, entretanto, a intensidade dessa assimetria é bem menor. Além do que, nesse caso, existem muitos países com a Expectativa de Vida parecida e relativamente alta, ao invés do contrário."
      ]
    },
    {
      "cell_type": "code",
      "metadata": {
        "id": "_bwXCiAcizj4",
        "colab": {
          "base_uri": "https://localhost:8080/",
          "height": 645
        },
        "outputId": "63850c9e-9668-4ab1-94a8-59b8023e311d"
      },
      "source": [
        "# col = 'Age'\n",
        "# col = 'Sex'\n",
        "# col = 'Chest Pain'\n",
        "# col = 'Resting Blood Pressure'\n",
        "# col = 'Cholesterol'\n",
        "# col = 'Fasting Blood Sugar'\n",
        "# col = 'Resting ECG'\n",
        "col = 'Max Heart Rate'\n",
        "# col = 'Exercise Induced Angina'\n",
        "# col = 'Oldpeak'\n",
        "# col = 'Slope'\n",
        "# col = 'CA'\n",
        "# col = 'Thal'\n",
        "# col = 'Target' # Quase Uniforme\n",
        "\n",
        "x = df[col]\n",
        "\n",
        "ymin = 0\n",
        "\n",
        "n, bins, patches = plt.hist(x, bins=10, edgecolor='k')\n",
        "plt.vlines(x.mean(), ymin, n.max(), label='Média', linestyles='--', edgecolor='k', color='red')\n",
        "plt.vlines(x.median(), ymin, n.max(), label='Mediana', color='black')\n",
        "plt.xlabel(col)\n",
        "plt.ylabel('# de Países')\n",
        "plt.title('Histograma do GDP')\n",
        "\n",
        "plt.legend()\n",
        "\n",
        "despine()\n",
        "\n",
        "plt.show()"
      ],
      "execution_count": null,
      "outputs": [
        {
          "output_type": "display_data",
          "data": {
            "image/png": "[encoded data removed]",
            "text/plain": [
              "<Figure size 1152x720 with 1 Axes>"
            ]
          },
          "metadata": {
            "needs_background": "light"
          }
        }
      ]
    },
    {
      "cell_type": "markdown",
      "metadata": {
        "id": "C01lTcDwBfBY"
      },
      "source": [
        "# 5. Testes de Hipóteses"
      ]
    },
    {
      "cell_type": "markdown",
      "metadata": {
        "id": "BnTPA1_Q5i5R"
      },
      "source": [
        "## 1. Testes da Expectativa de Vida"
      ]
    },
    {
      "cell_type": "markdown",
      "metadata": {
        "id": "TOApsgeU7LD0"
      },
      "source": [
        "Aqui faremos o bootstrap e calcularemos intervalos de confiança para mostrar uma possível correlação entre Expectativa de Vida e GDP.\n",
        "\n",
        "Para isso, criaremos duas \"classes\", os países que possuem a Expectativa de Vida acima da média e aqueles que a possuem abaixo da média. Iremos ignorar a média já que a usamos para preencher os NaNs.\n",
        "\n",
        "Como o leitor pode acompanhar, os ICs não se cruzam, o que significa, que, estatisticamente falando, o acaso não é capaz de explicar essa diferença."
      ]
    },
    {
      "cell_type": "code",
      "metadata": {
        "id": "TYUXH-up3Agu",
        "colab": {
          "base_uri": "https://localhost:8080/",
          "height": 624
        },
        "outputId": "26f8571f-5ea2-48e4-adb4-b1e1cdc725a6"
      },
      "source": [
        "# col0 = 'Resting Blood Pressure'\n",
        "col0 = 'Cholesterol'\n",
        "# col0 = 'Max Heart Rate'\n",
        "# col0 = 'Target'\n",
        "\n",
        "col = 'Sex'\n",
        "# col = 'Chest Pain'\n",
        "# col = 'Fasting Blood Sugar'\n",
        "# col = 'Resting ECG'\n",
        "# col = 'Exercise Induced Angina'\n",
        "# col = 'Slope'\n",
        "# col = 'CA'\n",
        "# col = 'Thal'\n",
        "# col = 'Target' # Quase Uniforme\n",
        "\n",
        "ymin = 0\n",
        "corte = df[col].unique()\n",
        "\n",
        "for i in corte:\n",
        "    filtro = df[col] == i\n",
        "    df0 = df[col0][filtro]\n",
        "\n",
        "    df0_mean = bootstrap_mean(df0)\n",
        "\n",
        "    LI = np.percentile(df0_mean, 2.5)\n",
        "    LS = np.percentile(df0_mean, 97.5)\n",
        "\n",
        "    n, bins, patches = plt.hist(df0_mean, bins=20, edgecolor='k', label=col + ' = ' + str(i))\n",
        "\n",
        "    maior = n.max()\n",
        "\n",
        "    plt.vlines(LI, ymin, maior, linestyles='--', label='IC dos países' + ' = ' + str(i), color='m')\n",
        "    plt.vlines(LS, ymin, maior, linestyles='--', edgecolor='m')\n",
        "\n",
        "plt.xlabel(col0)\n",
        "plt.ylabel('')\n",
        "plt.title('')\n",
        "\n",
        "plt.legend()\n",
        "\n",
        "despine()\n",
        "\n",
        "plt.show()"
      ],
      "execution_count": null,
      "outputs": [
        {
          "output_type": "display_data",
          "data": {
            "image/png": "[encoded data removed]",
            "text/plain": [
              "<Figure size 1152x720 with 1 Axes>"
            ]
          },
          "metadata": {
            "needs_background": "light"
          }
        }
      ]
    },
    {
      "cell_type": "markdown",
      "metadata": {
        "id": "fypekFq4Ejd8"
      },
      "source": [
        "O BoxPlot nos permite ver o mesmo que o último gráfico de uma forma diferente."
      ]
    },
    {
      "cell_type": "code",
      "metadata": {
        "id": "ij3SjJPuEjd8",
        "colab": {
          "base_uri": "https://localhost:8080/",
          "height": 621
        },
        "outputId": "f7e8aec6-6600-4cf8-9e02-b95c7a8905bd"
      },
      "source": [
        "corte = df[col].unique()\n",
        "df1 = pd.DataFrame()\n",
        "\n",
        "for i in corte:\n",
        "    filtro = df[col] == i\n",
        "    df0 = df[col0][filtro]\n",
        "\n",
        "    df0_mean = bootstrap_mean(df0)\n",
        "\n",
        "    df1[i] = df0_mean\n",
        "\n",
        "df1.boxplot(grid=False, sym='', whis=[2.5, 97.5], showmeans=True)\n",
        "\n",
        "plt.ylabel('GDP')\n",
        "plt.title('ICs do GDP e da Expectativa de Vida')\n",
        "\n",
        "despine()\n",
        "\n",
        "plt.show()"
      ],
      "execution_count": null,
      "outputs": [
        {
          "output_type": "display_data",
          "data": {
            "image/png": "[encoded data removed]",
            "text/plain": [
              "<Figure size 1152x720 with 1 Axes>"
            ]
          },
          "metadata": {
            "needs_background": "light"
          }
        }
      ]
    },
    {
      "cell_type": "code",
      "metadata": {
        "id": "2L_yQBZ43_yk",
        "colab": {
          "base_uri": "https://localhost:8080/",
          "height": 645
        },
        "outputId": "074b3d93-3730-4f11-870a-f4629b7ab31c"
      },
      "source": [
        "col = 'Cholesterol'\n",
        "\n",
        "col0 = 'Target'\n",
        "\n",
        "corte = df[col].mean()\n",
        "\n",
        "filtro = df[col] < corte\n",
        "df0 = df[col0][filtro]\n",
        "\n",
        "filtro = df[col] > corte\n",
        "df1 = df[col0][filtro]\n",
        "\n",
        "df0_mean = bootstrap_mean(df0)\n",
        "df1_mean = bootstrap_mean(df1)\n",
        "\n",
        "text = str(round(corte, ndigits=2))\n",
        "\n",
        "LI0 = np.percentile(df0_mean, 2.5)\n",
        "LS0 = np.percentile(df0_mean, 97.5)\n",
        "LI1 = np.percentile(df1_mean, 2.5)\n",
        "LS1 = np.percentile(df1_mean, 97.5)\n",
        "\n",
        "ymin = 0\n",
        "\n",
        "maior = []\n",
        "\n",
        "n, bins, patches = plt.hist(df0_mean, bins=20, edgecolor='k', label=col + ' < ' + text)\n",
        "\n",
        "maior.append(n.max())\n",
        "\n",
        "n, bins, patches = plt.hist(df1_mean, bins=20, edgecolor='k', label=col + ' > ' + text)\n",
        "\n",
        "maior.append(n.max())\n",
        "\n",
        "maior = np.max(maior)\n",
        "\n",
        "plt.vlines(LI0, ymin, maior, linestyles='--', label='IC dos países' + ' < ' + text, color='m')\n",
        "plt.vlines(LS0, ymin, maior, linestyles='--', edgecolor='m')\n",
        "plt.vlines(LI1, ymin, maior, linestyles='--', label='IC dos países' + ' > ' + text, color='y')\n",
        "plt.vlines(LS1, ymin, maior, linestyles='--', edgecolor='y')\n",
        "plt.xlabel('Suicides')\n",
        "plt.ylabel('# de Países')\n",
        "plt.title('ICs do # de Suicídios e da Expectativa de Vida')\n",
        "\n",
        "plt.legend()\n",
        "\n",
        "despine()\n",
        "\n",
        "plt.show()"
      ],
      "execution_count": null,
      "outputs": [
        {
          "output_type": "display_data",
          "data": {
            "image/png": "[encoded data removed]",
            "text/plain": [
              "<Figure size 1152x720 with 1 Axes>"
            ]
          },
          "metadata": {
            "needs_background": "light"
          }
        }
      ]
    },
    {
      "cell_type": "markdown",
      "metadata": {
        "id": "lGhXGadEE5JD"
      },
      "source": [
        "O BoxPlot nos permite ver o mesmo que o último gráfico de uma forma diferente."
      ]
    },
    {
      "cell_type": "code",
      "metadata": {
        "id": "XA-bTbwNE5JE",
        "colab": {
          "base_uri": "https://localhost:8080/",
          "height": 621
        },
        "outputId": "164baa66-8eb6-4a32-abca-bb9f403c52f5"
      },
      "source": [
        "df2 = pd.DataFrame()\n",
        "\n",
        "df2['> Média'] = df0_mean\n",
        "df2['< Média'] = df1_mean\n",
        "\n",
        "df2.boxplot(grid=False, sym='', whis=[2.5, 97.5], showmeans=True)\n",
        "plt.ylabel('GDP')\n",
        "plt.title('ICs do GDP e da Expectativa de Vida')\n",
        "\n",
        "despine()\n",
        "\n",
        "plt.show()"
      ],
      "execution_count": null,
      "outputs": [
        {
          "output_type": "display_data",
          "data": {
            "image/png": "[encoded data removed]",
            "text/plain": [
              "<Figure size 1152x720 with 1 Axes>"
            ]
          },
          "metadata": {
            "needs_background": "light"
          }
        }
      ]
    },
    {
      "cell_type": "markdown",
      "metadata": {
        "id": "3jpBkmB_je16"
      },
      "source": [
        "# 9. Classificação Sexo"
      ]
    },
    {
      "cell_type": "markdown",
      "metadata": {
        "id": "kTAXWTP5OW39"
      },
      "source": [
        "## 1. Pré-processamento de Dados"
      ]
    },
    {
      "cell_type": "code",
      "metadata": {
        "id": "gFn5Vav2kfDE"
      },
      "source": [
        "# col = 'Age'\n",
        "# col = 'Generation'\n",
        "col = 'Target'\n",
        "\n",
        "X = df.copy()\n",
        "y = X[col]\n",
        "\n",
        "X = X.drop(col, axis=1)"
      ],
      "execution_count": null,
      "outputs": []
    },
    {
      "cell_type": "code",
      "metadata": {
        "id": "XaymQ8uimFjl"
      },
      "source": [
        "# classes = y.unique()\n",
        "\n",
        "# for i in range(len(classes)):\n",
        "#     y[y == classes[i]] = i"
      ],
      "execution_count": null,
      "outputs": []
    },
    {
      "cell_type": "code",
      "metadata": {
        "id": "e59CkjSgt4HH"
      },
      "source": [
        "# label_encoder = LabelEncoder()\n",
        "# y = label_encoder.fit_transform(y)"
      ],
      "execution_count": null,
      "outputs": []
    },
    {
      "cell_type": "code",
      "metadata": {
        "id": "p-RjCcTeknFo"
      },
      "source": [
        "X_train, X_test, y_train, y_test = train_test_split(X, y, test_size=0.3)\n",
        "\n",
        "mean_train = X_train.mean()\n",
        "std_train = X_train.std(ddof=1)\n",
        "\n",
        "Z_train = X_train.copy()\n",
        "Z_train = Z_train - mean_train\n",
        "Z_train = Z_train / std_train\n",
        "\n",
        "Z_test = X_test.copy()\n",
        "Z_test = Z_test - mean_train\n",
        "Z_test = Z_test / std_train"
      ],
      "execution_count": null,
      "outputs": []
    },
    {
      "cell_type": "markdown",
      "metadata": {
        "id": "cIwWLwKnOWLf"
      },
      "source": [
        "## 2. Classificação"
      ]
    },
    {
      "cell_type": "code",
      "metadata": {
        "id": "cEomBox_je2O",
        "colab": {
          "base_uri": "https://localhost:8080/"
        },
        "outputId": "71c053af-2519-4f4b-a438-f9157527506b"
      },
      "source": [
        "skf = StratifiedKFold(n_splits=5)\n",
        "fold = 1\n",
        "\n",
        "for train_index, val_index in skf.split(Z_train, y_train):\n",
        "\n",
        "    print('Fold:', fold)\n",
        "    for k in [1, 3, 5, 7, 9, 11, 13, 15]:\n",
        "        model = KNeighborsClassifier(n_neighbors=k)\n",
        "        model.fit(Z_train.values[train_index],\n",
        "                  y_train.values[train_index])\n",
        "\n",
        "        y_val = y_train.values[val_index]\n",
        "        y_hat = model.predict(Z_train.values[val_index])\n",
        "\n",
        "        # precision = np.mean(precision_score(y_val, y_hat, average=None))\n",
        "        precision = precision_score(y_val, y_hat)\n",
        "        print(k, 'Neighbors:', precision)\n",
        "    print()\n",
        "    print()\n",
        "    fold += 1"
      ],
      "execution_count": null,
      "outputs": [
        {
          "output_type": "stream",
          "name": "stdout",
          "text": [
            "Fold: 1\n",
            "1 Neighbors: 0.75\n",
            "3 Neighbors: 0.8076923076923077\n",
            "5 Neighbors: 0.75\n",
            "7 Neighbors: 0.7096774193548387\n",
            "9 Neighbors: 0.7586206896551724\n",
            "11 Neighbors: 0.7333333333333333\n",
            "13 Neighbors: 0.7333333333333333\n",
            "15 Neighbors: 0.7096774193548387\n",
            "\n",
            "\n",
            "Fold: 2\n",
            "1 Neighbors: 0.8181818181818182\n",
            "3 Neighbors: 0.7307692307692307\n",
            "5 Neighbors: 0.7307692307692307\n",
            "7 Neighbors: 0.7037037037037037\n",
            "9 Neighbors: 0.6785714285714286\n",
            "11 Neighbors: 0.6785714285714286\n",
            "13 Neighbors: 0.7307692307692307\n",
            "15 Neighbors: 0.7037037037037037\n",
            "\n",
            "\n",
            "Fold: 3\n",
            "1 Neighbors: 0.7391304347826086\n",
            "3 Neighbors: 0.8333333333333334\n",
            "5 Neighbors: 0.8\n",
            "7 Neighbors: 0.8\n",
            "9 Neighbors: 0.8333333333333334\n",
            "11 Neighbors: 0.76\n",
            "13 Neighbors: 0.76\n",
            "15 Neighbors: 0.8\n",
            "\n",
            "\n",
            "Fold: 4\n",
            "1 Neighbors: 0.7692307692307693\n",
            "3 Neighbors: 0.8571428571428571\n",
            "5 Neighbors: 0.8260869565217391\n",
            "7 Neighbors: 0.8695652173913043\n",
            "9 Neighbors: 0.8695652173913043\n",
            "11 Neighbors: 0.9130434782608695\n",
            "13 Neighbors: 0.875\n",
            "15 Neighbors: 0.8076923076923077\n",
            "\n",
            "\n",
            "Fold: 5\n",
            "1 Neighbors: 0.8571428571428571\n",
            "3 Neighbors: 0.8181818181818182\n",
            "5 Neighbors: 0.782608695652174\n",
            "7 Neighbors: 0.8095238095238095\n",
            "9 Neighbors: 0.7727272727272727\n",
            "11 Neighbors: 0.782608695652174\n",
            "13 Neighbors: 0.7727272727272727\n",
            "15 Neighbors: 0.782608695652174\n",
            "\n",
            "\n"
          ]
        }
      ]
    },
    {
      "cell_type": "code",
      "metadata": {
        "id": "uXGJigrvje2X",
        "colab": {
          "base_uri": "https://localhost:8080/",
          "height": 418
        },
        "outputId": "fcd2f5bf-3538-4981-c274-6f6f277fd78c"
      },
      "source": [
        "model = KNeighborsClassifier(n_neighbors=3)\n",
        "model.fit(Z_train.values, y_train.values)\n",
        "\n",
        "pscore_values0 = bootstrap_pscore(y_train.values, model.predict(Z_train.values))\n",
        "pscore_values1 = bootstrap_pscore(y_test.values, model.predict(Z_test.values))\n",
        "\n",
        "LI0 = np.percentile(r2_values0, 2.5)\n",
        "LS0 = np.percentile(r2_values0, 97.5)\n",
        "LI1 = np.percentile(r2_values1, 2.5)\n",
        "LS1 = np.percentile(r2_values1, 97.5)\n",
        "\n",
        "ymin = 0\n",
        "\n",
        "maior = []\n",
        "\n",
        "n, bins, patches = plt.hist(r2_values0, bins=30, label='Treino', edgecolor='k')\n",
        "\n",
        "maior.append(n.max())\n",
        "\n",
        "n, bins, patches = plt.hist(r2_values1, bins=30, label='Teste', edgecolor='k')\n",
        "\n",
        "maior.append(n.max())\n",
        "\n",
        "maior = np.max(maior)\n",
        "\n",
        "plt.vlines(LI0, ymin, maior, linestyles='--', label='IC do PScore', color='m')\n",
        "plt.vlines(LS0, ymin, maior, linestyles='--', edgecolor='m')\n",
        "plt.vlines(LI1, ymin, maior, linestyles='--', label='IC do PScore', color='y')\n",
        "plt.vlines(LS1, ymin, maior, linestyles='--', edgecolor='y')\n",
        "\n",
        "plt.xlabel('Precision Score')\n",
        "plt.title('ICs do Precision Score da Classificação KNN nos Grupos de Treino e de Teste')\n",
        "\n",
        "plt.legend()\n",
        "\n",
        "despine()\n",
        "\n",
        "plt.show()"
      ],
      "execution_count": null,
      "outputs": [
        {
          "output_type": "error",
          "ename": "ValueError",
          "evalue": "ignored",
          "traceback": [
            "\u001b[0;31m---------------------------------------------------------------------------\u001b[0m",
            "\u001b[0;31mTypeError\u001b[0m                                 Traceback (most recent call last)",
            "\u001b[0;31mTypeError\u001b[0m: only size-1 arrays can be converted to Python scalars",
            "\nThe above exception was the direct cause of the following exception:\n",
            "\u001b[0;31mValueError\u001b[0m                                Traceback (most recent call last)",
            "\u001b[0;32m<ipython-input-50-3f331e47eb79>\u001b[0m in \u001b[0;36m<module>\u001b[0;34m()\u001b[0m\n\u001b[1;32m      2\u001b[0m \u001b[0mmodel\u001b[0m\u001b[0;34m.\u001b[0m\u001b[0mfit\u001b[0m\u001b[0;34m(\u001b[0m\u001b[0mZ_train\u001b[0m\u001b[0;34m.\u001b[0m\u001b[0mvalues\u001b[0m\u001b[0;34m,\u001b[0m \u001b[0my_train\u001b[0m\u001b[0;34m.\u001b[0m\u001b[0mvalues\u001b[0m\u001b[0;34m)\u001b[0m\u001b[0;34m\u001b[0m\u001b[0;34m\u001b[0m\u001b[0m\n\u001b[1;32m      3\u001b[0m \u001b[0;34m\u001b[0m\u001b[0m\n\u001b[0;32m----> 4\u001b[0;31m \u001b[0mpscore_values0\u001b[0m \u001b[0;34m=\u001b[0m \u001b[0mbootstrap_pscore\u001b[0m\u001b[0;34m(\u001b[0m\u001b[0my_train\u001b[0m\u001b[0;34m.\u001b[0m\u001b[0mvalues\u001b[0m\u001b[0;34m,\u001b[0m \u001b[0mmodel\u001b[0m\u001b[0;34m.\u001b[0m\u001b[0mpredict\u001b[0m\u001b[0;34m(\u001b[0m\u001b[0mZ_train\u001b[0m\u001b[0;34m.\u001b[0m\u001b[0mvalues\u001b[0m\u001b[0;34m)\u001b[0m\u001b[0;34m)\u001b[0m\u001b[0;34m\u001b[0m\u001b[0;34m\u001b[0m\u001b[0m\n\u001b[0m\u001b[1;32m      5\u001b[0m \u001b[0mpscore_values1\u001b[0m \u001b[0;34m=\u001b[0m \u001b[0mbootstrap_pscore\u001b[0m\u001b[0;34m(\u001b[0m\u001b[0my_test\u001b[0m\u001b[0;34m.\u001b[0m\u001b[0mvalues\u001b[0m\u001b[0;34m,\u001b[0m \u001b[0mmodel\u001b[0m\u001b[0;34m.\u001b[0m\u001b[0mpredict\u001b[0m\u001b[0;34m(\u001b[0m\u001b[0mZ_test\u001b[0m\u001b[0;34m.\u001b[0m\u001b[0mvalues\u001b[0m\u001b[0;34m)\u001b[0m\u001b[0;34m)\u001b[0m\u001b[0;34m\u001b[0m\u001b[0;34m\u001b[0m\u001b[0m\n\u001b[1;32m      6\u001b[0m \u001b[0;34m\u001b[0m\u001b[0m\n",
            "\u001b[0;32m<ipython-input-8-ca7ef13969d8>\u001b[0m in \u001b[0;36mbootstrap_pscore\u001b[0;34m(y_val, y_hat, n)\u001b[0m\n\u001b[1;32m      6\u001b[0m         \u001b[0my_valb\u001b[0m \u001b[0;34m=\u001b[0m \u001b[0my_val\u001b[0m\u001b[0;34m[\u001b[0m\u001b[0midx\u001b[0m\u001b[0;34m]\u001b[0m\u001b[0;34m\u001b[0m\u001b[0;34m\u001b[0m\u001b[0m\n\u001b[1;32m      7\u001b[0m         \u001b[0my_hatb\u001b[0m \u001b[0;34m=\u001b[0m \u001b[0my_hat\u001b[0m\u001b[0;34m[\u001b[0m\u001b[0midx\u001b[0m\u001b[0;34m]\u001b[0m\u001b[0;34m\u001b[0m\u001b[0;34m\u001b[0m\u001b[0m\n\u001b[0;32m----> 8\u001b[0;31m         \u001b[0mvalues\u001b[0m\u001b[0;34m[\u001b[0m\u001b[0mi\u001b[0m\u001b[0;34m]\u001b[0m \u001b[0;34m=\u001b[0m \u001b[0mprecision_score\u001b[0m\u001b[0;34m(\u001b[0m\u001b[0my_valb\u001b[0m\u001b[0;34m,\u001b[0m \u001b[0my_hatb\u001b[0m\u001b[0;34m,\u001b[0m \u001b[0maverage\u001b[0m\u001b[0;34m=\u001b[0m\u001b[0;32mNone\u001b[0m\u001b[0;34m)\u001b[0m\u001b[0;34m\u001b[0m\u001b[0;34m\u001b[0m\u001b[0m\n\u001b[0m\u001b[1;32m      9\u001b[0m     \u001b[0;32mreturn\u001b[0m \u001b[0mvalues\u001b[0m\u001b[0;34m\u001b[0m\u001b[0;34m\u001b[0m\u001b[0m\n",
            "\u001b[0;31mValueError\u001b[0m: setting an array element with a sequence."
          ]
        }
      ]
    },
    {
      "cell_type": "markdown",
      "metadata": {
        "id": "5lOZW97aje2b"
      },
      "source": [
        "# 10. Conclusão <a name=\"concl\"></a>"
      ]
    },
    {
      "cell_type": "markdown",
      "metadata": {
        "id": "CcIGc-pQje2b"
      },
      "source": [
        "O projeto criou oportunidades para o aprendizado de várias técnicas, conceitos e ferramentas do arcabouço de Ciência de Dados. Além do mais, foi possível perceber a importância de apresentar os dados de forma a aumentar a legibilidade deles pelo leitor.\n",
        "\n",
        "Autor: Lucas S. Teles"
      ]
    }
  ]
}